{
 "cells": [
  {
   "cell_type": "markdown",
   "metadata": {},
   "source": [
    "# Objective\n",
    "\n",
    "## Social Media Tweet Analysis on Twitter Dataset\n",
    "1. Topic Modeling on Twitter Dataset\n",
    "2. Sentiment analysis on Twitter Dataset\n",
    "\n",
    "***\n",
    "- In previoius task I have successfully carried out the EDA and produced a clean twitter data.\n",
    "- In this task I will be using the clean_tweet_data.csv generated."
   ]
  },
  {
   "cell_type": "markdown",
   "metadata": {},
   "source": [
    "### Import necessary package"
   ]
  },
  {
   "cell_type": "code",
   "execution_count": 26,
   "metadata": {},
   "outputs": [],
   "source": [
    "import warnings\n",
    "warnings.filterwarnings('ignore')\n",
    "from pprint import pprint\n",
    "import pandas as pd\n",
    "import numpy as np\n",
    "from gensim import corpora\n",
    "from gensim.models import CoherenceModel\n",
    "import seaborn as sns\n",
    "import matplotlib.pyplot as plt\n",
    "import gensim\n",
    "import string\n",
    "import re\n",
    "import os\n"
   ]
  },
  {
   "cell_type": "code",
   "execution_count": 5,
   "metadata": {},
   "outputs": [],
   "source": [
    "sys.path.append(os.path.abspath(os.path.join(\"./..\")))\n",
    "\n",
    "# custom modules from Day-2\n",
    "from preprocess_tweet_data import DataPreparation\n"
   ]
  },
  {
   "cell_type": "markdown",
   "metadata": {},
   "source": [
    "### Data acquisition\n",
    "- We use the clean_tweet_dataframe.csv"
   ]
  },
  {
   "cell_type": "code",
   "execution_count": 6,
   "metadata": {},
   "outputs": [
    {
     "data": {
      "text/html": [
       "<div>\n",
       "<style scoped>\n",
       "    .dataframe tbody tr th:only-of-type {\n",
       "        vertical-align: middle;\n",
       "    }\n",
       "\n",
       "    .dataframe tbody tr th {\n",
       "        vertical-align: top;\n",
       "    }\n",
       "\n",
       "    .dataframe thead th {\n",
       "        text-align: right;\n",
       "    }\n",
       "</style>\n",
       "<table border=\"1\" class=\"dataframe\">\n",
       "  <thead>\n",
       "    <tr style=\"text-align: right;\">\n",
       "      <th></th>\n",
       "      <th>created_at</th>\n",
       "      <th>source</th>\n",
       "      <th>clean_text</th>\n",
       "      <th>polarity</th>\n",
       "      <th>subjectivity</th>\n",
       "      <th>lang</th>\n",
       "      <th>favorite_count</th>\n",
       "      <th>retweet_count</th>\n",
       "      <th>original_author</th>\n",
       "      <th>followers_count</th>\n",
       "      <th>friends_count</th>\n",
       "      <th>possibly_sensitive</th>\n",
       "      <th>hashtags</th>\n",
       "      <th>user_mentions</th>\n",
       "      <th>place</th>\n",
       "      <th>flattened_hashtags</th>\n",
       "      <th>flattened_user_mentions</th>\n",
       "    </tr>\n",
       "  </thead>\n",
       "  <tbody>\n",
       "    <tr>\n",
       "      <th>0</th>\n",
       "      <td>2022-08-07 22:31:20+00:00</td>\n",
       "      <td>twitter for android</td>\n",
       "      <td>iameztoy extra random image let us focus one s...</td>\n",
       "      <td>-1.250000e-01</td>\n",
       "      <td>0.190625</td>\n",
       "      <td>en</td>\n",
       "      <td>0</td>\n",
       "      <td>2</td>\n",
       "      <td>i_ameztoy</td>\n",
       "      <td>20497</td>\n",
       "      <td>2621</td>\n",
       "      <td>False</td>\n",
       "      <td>['#city', '#ta']</td>\n",
       "      <td>['@i_ameztoy']</td>\n",
       "      <td>NaN</td>\n",
       "      <td>#City</td>\n",
       "      <td>@i_ameztoy</td>\n",
       "    </tr>\n",
       "    <tr>\n",
       "      <th>1</th>\n",
       "      <td>2022-08-07 22:31:16+00:00</td>\n",
       "      <td>twitter for android</td>\n",
       "      <td>indopacinfo chinas media explains military rea...</td>\n",
       "      <td>-1.000000e-01</td>\n",
       "      <td>0.100000</td>\n",
       "      <td>en</td>\n",
       "      <td>0</td>\n",
       "      <td>201</td>\n",
       "      <td>ziisq</td>\n",
       "      <td>65</td>\n",
       "      <td>272</td>\n",
       "      <td>False</td>\n",
       "      <td>['#china', '#taiwan']</td>\n",
       "      <td>['@indopac_info']</td>\n",
       "      <td>NaN</td>\n",
       "      <td>#Ta</td>\n",
       "      <td>@IndoPac_Info</td>\n",
       "    </tr>\n",
       "    <tr>\n",
       "      <th>2</th>\n",
       "      <td>2022-08-07 22:31:07+00:00</td>\n",
       "      <td>twitter for android</td>\n",
       "      <td>china even cut communication anwer phonecalls ...</td>\n",
       "      <td>0.000000e+00</td>\n",
       "      <td>0.000000</td>\n",
       "      <td>en</td>\n",
       "      <td>0</td>\n",
       "      <td>0</td>\n",
       "      <td>fin21free</td>\n",
       "      <td>85</td>\n",
       "      <td>392</td>\n",
       "      <td>False</td>\n",
       "      <td>['#xijinping']</td>\n",
       "      <td>['@zelenskyyua']</td>\n",
       "      <td>netherlands</td>\n",
       "      <td>#China</td>\n",
       "      <td>@ZelenskyyUa</td>\n",
       "    </tr>\n",
       "    <tr>\n",
       "      <th>3</th>\n",
       "      <td>2022-08-07 22:31:06+00:00</td>\n",
       "      <td>twitter for android</td>\n",
       "      <td>putin xijinping told friend taiwan vassal stat...</td>\n",
       "      <td>1.000000e-01</td>\n",
       "      <td>0.350000</td>\n",
       "      <td>en</td>\n",
       "      <td>0</td>\n",
       "      <td>0</td>\n",
       "      <td>fin21free</td>\n",
       "      <td>85</td>\n",
       "      <td>392</td>\n",
       "      <td>False</td>\n",
       "      <td>['#xijinping']</td>\n",
       "      <td>NaN</td>\n",
       "      <td>netherlands</td>\n",
       "      <td>#Taiwan</td>\n",
       "      <td>@ChinaUncensored</td>\n",
       "    </tr>\n",
       "    <tr>\n",
       "      <th>4</th>\n",
       "      <td>2022-08-07 22:31:04+00:00</td>\n",
       "      <td>twitter for iphone</td>\n",
       "      <td>chinauncensored sorry thought taiwan independe...</td>\n",
       "      <td>-6.938894e-18</td>\n",
       "      <td>0.556250</td>\n",
       "      <td>en</td>\n",
       "      <td>0</td>\n",
       "      <td>381</td>\n",
       "      <td>vizzinidolores</td>\n",
       "      <td>910</td>\n",
       "      <td>2608</td>\n",
       "      <td>False</td>\n",
       "      <td>NaN</td>\n",
       "      <td>['@chinauncensored']</td>\n",
       "      <td>ayent, schweiz</td>\n",
       "      <td>#XiJinping</td>\n",
       "      <td>@benedictrogers</td>\n",
       "    </tr>\n",
       "  </tbody>\n",
       "</table>\n",
       "</div>"
      ],
      "text/plain": [
       "                  created_at               source  \\\n",
       "0  2022-08-07 22:31:20+00:00  twitter for android   \n",
       "1  2022-08-07 22:31:16+00:00  twitter for android   \n",
       "2  2022-08-07 22:31:07+00:00  twitter for android   \n",
       "3  2022-08-07 22:31:06+00:00  twitter for android   \n",
       "4  2022-08-07 22:31:04+00:00   twitter for iphone   \n",
       "\n",
       "                                          clean_text      polarity  \\\n",
       "0  iameztoy extra random image let us focus one s... -1.250000e-01   \n",
       "1  indopacinfo chinas media explains military rea... -1.000000e-01   \n",
       "2  china even cut communication anwer phonecalls ...  0.000000e+00   \n",
       "3  putin xijinping told friend taiwan vassal stat...  1.000000e-01   \n",
       "4  chinauncensored sorry thought taiwan independe... -6.938894e-18   \n",
       "\n",
       "   subjectivity lang  favorite_count  retweet_count original_author  \\\n",
       "0      0.190625   en               0              2       i_ameztoy   \n",
       "1      0.100000   en               0            201           ziisq   \n",
       "2      0.000000   en               0              0       fin21free   \n",
       "3      0.350000   en               0              0       fin21free   \n",
       "4      0.556250   en               0            381  vizzinidolores   \n",
       "\n",
       "   followers_count  friends_count  possibly_sensitive               hashtags  \\\n",
       "0            20497           2621               False       ['#city', '#ta']   \n",
       "1               65            272               False  ['#china', '#taiwan']   \n",
       "2               85            392               False         ['#xijinping']   \n",
       "3               85            392               False         ['#xijinping']   \n",
       "4              910           2608               False                    NaN   \n",
       "\n",
       "          user_mentions           place flattened_hashtags  \\\n",
       "0        ['@i_ameztoy']             NaN              #City   \n",
       "1     ['@indopac_info']             NaN                #Ta   \n",
       "2      ['@zelenskyyua']     netherlands             #China   \n",
       "3                   NaN     netherlands            #Taiwan   \n",
       "4  ['@chinauncensored']  ayent, schweiz         #XiJinping   \n",
       "\n",
       "  flattened_user_mentions  \n",
       "0              @i_ameztoy  \n",
       "1           @IndoPac_Info  \n",
       "2            @ZelenskyyUa  \n",
       "3        @ChinaUncensored  \n",
       "4         @benedictrogers  "
      ]
     },
     "execution_count": 6,
     "metadata": {},
     "output_type": "execute_result"
    }
   ],
   "source": [
    "clean_tweet_df = pd.read_csv('../clean_tweet_dataframe.csv')\n",
    "clean_tweet_df.head()\n"
   ]
  },
  {
   "cell_type": "markdown",
   "metadata": {},
   "source": [
    "## 3. Data preparation\n",
    "- convert the tweet to string and lowercase\n",
    "- remove punctuations \n",
    "- generate id for each words in the clean_text\n",
    "- generate id and thier coressponding frequency(corpus)\n"
   ]
  },
  {
   "cell_type": "code",
   "execution_count": 7,
   "metadata": {},
   "outputs": [],
   "source": [
    "PrepareData_obj = DataPreparation(clean_tweet_df)\n",
    "word_list ,id2word,corpus=PrepareData_obj.preprocess_data()"
   ]
  },
  {
   "cell_type": "code",
   "execution_count": 8,
   "metadata": {},
   "outputs": [
    {
     "name": "stdout",
     "output_type": "stream",
     "text": [
      "[[('city', 1), ('coast', 1), ('district', 1), ('extra', 1), ('focus', 1), ('gt', 1), ('iameztoy', 1), ('image', 1), ('let', 1), ('longjing', 1), ('one', 1), ('random', 1), ('specific', 1), ('ta', 1), ('taichung', 1), ('us', 1), ('western', 1), ('zone', 1)], [('area', 1), ('chinas', 1), ('drills', 1), ('explains', 1), ('indopacinfo', 1), ('labels', 1), ('media', 1), ('military', 1), ('pi', 1), ('read', 1), ('reasons', 1), ('strait', 1), ('taiwan', 1)]]\n"
     ]
    }
   ],
   "source": [
    "id_words = [[(id2word[id], count) for id, count in line] for line in corpus]\n",
    "print(id_words[:2])"
   ]
  },
  {
   "cell_type": "markdown",
   "metadata": {},
   "source": [
    "# Topic Modeling\n",
    "- It is a coarse level analysis of what is in text collection\n",
    "- It can be done using Latent Dirichlet Allocation\n",
    "    - Distributional hypothesis\n",
    "        - similar topics make use of similar words\n",
    "    - Statistical mixture hypothesis\n",
    "        - documents talk about several topics for which a statistical distribution can be determined.\n",
    "\n",
    "    - The purpose of LDA is mapping each teweets in our corpus to a set of topics which covers a good deal of the words in the tweet"
   ]
  },
  {
   "cell_type": "code",
   "execution_count": 9,
   "metadata": {},
   "outputs": [],
   "source": [
    "# Build LDA model\n",
    "lda_model = gensim.models.ldamodel.LdaModel(corpus,\n",
    "                                            id2word=id2word,\n",
    "                                            num_topics=5,\n",
    "                                            random_state=100,\n",
    "                                            update_every=1,\n",
    "                                            chunksize=100,\n",
    "                                            passes=10,\n",
    "                                            alpha='auto',\n",
    "                                            per_word_topics=True)\n"
   ]
  },
  {
   "cell_type": "code",
   "execution_count": 10,
   "metadata": {},
   "outputs": [
    {
     "name": "stdout",
     "output_type": "stream",
     "text": [
      "[(0,\n",
      "  '0.056*\"taiwan\" + 0.034*\"us\" + 0.028*\"pelosi\" + 0.018*\"williamyang\" + '\n",
      "  '0.018*\"speaker\" + 0.017*\"japan\" + 0.017*\"china\" + 0.013*\"visit\" + '\n",
      "  '0.012*\"nancy\" + 0.012*\"missiles\"'),\n",
      " (1,\n",
      "  '0.059*\"taiwan\" + 0.034*\"military\" + 0.027*\"august\" + 0.027*\"th\" + '\n",
      "  '0.023*\"drills\" + 0.019*\"around\" + 0.017*\"chinese\" + 0.016*\"china\" + '\n",
      "  '0.015*\"indopacinfo\" + 0.014*\"chinas\"'),\n",
      " (2,\n",
      "  '0.096*\"taiwan\" + 0.035*\"indopacinfo\" + 0.031*\"missile\" + 0.029*\"china\" + '\n",
      "  '0.028*\"chinas\" + 0.024*\"island\" + 0.022*\"chinese\" + 0.020*\"good\" + '\n",
      "  '0.018*\"launches\" + 0.018*\"infographic\"'),\n",
      " (3,\n",
      "  '0.055*\"taiwan\" + 0.028*\"visit\" + 0.021*\"us\" + 0.017*\"pelosi\" + '\n",
      "  '0.016*\"pelosis\" + 0.013*\"minister\" + 0.011*\"china\" + 0.011*\"amp\" + '\n",
      "  '0.010*\"world\" + 0.009*\"people\"'),\n",
      " (4,\n",
      "  '0.045*\"china\" + 0.030*\"taiwan\" + 0.016*\"taiwans\" + '\n",
      "  '0.015*\"chinataiwancrisis\" + 0.012*\"time\" + 0.011*\"war\" + 0.010*\"dead\" + '\n",
      "  '0.010*\"found\" + 0.009*\"hotel\" + 0.009*\"ukraine\"')]\n"
     ]
    }
   ],
   "source": [
    "pprint(lda_model.print_topics())"
   ]
  },
  {
   "cell_type": "code",
   "execution_count": 15,
   "metadata": {},
   "outputs": [
    {
     "name": "stdout",
     "output_type": "stream",
     "text": [
      "[(0,\n",
      "  [('taiwan', 0.0555923),\n",
      "   ('us', 0.034303848),\n",
      "   ('pelosi', 0.028204605),\n",
      "   ('williamyang', 0.018428097),\n",
      "   ('speaker', 0.018077305),\n",
      "   ('japan', 0.017096419),\n",
      "   ('china', 0.016585924),\n",
      "   ('visit', 0.012710853),\n",
      "   ('nancy', 0.012443848),\n",
      "   ('missiles', 0.012273723)]),\n",
      " (1,\n",
      "  [('taiwan', 0.05896451),\n",
      "   ('military', 0.03448148),\n",
      "   ('august', 0.027414095),\n",
      "   ('th', 0.027223792),\n",
      "   ('drills', 0.022572277),\n",
      "   ('around', 0.01892496),\n",
      "   ('chinese', 0.016558755),\n",
      "   ('china', 0.01599165),\n",
      "   ('indopacinfo', 0.015062982),\n",
      "   ('chinas', 0.014279024)]),\n",
      " (2,\n",
      "  [('taiwan', 0.09621709),\n",
      "   ('indopacinfo', 0.03499091),\n",
      "   ('missile', 0.030841574),\n",
      "   ('china', 0.029437792),\n",
      "   ('chinas', 0.027946968),\n",
      "   ('island', 0.023950044),\n",
      "   ('chinese', 0.022234691),\n",
      "   ('good', 0.02025329),\n",
      "   ('launches', 0.017746868),\n",
      "   ('infographic', 0.01754495)]),\n",
      " (3,\n",
      "  [('taiwan', 0.055233322),\n",
      "   ('visit', 0.028310405),\n",
      "   ('us', 0.020889722),\n",
      "   ('pelosi', 0.016807389),\n",
      "   ('pelosis', 0.015857926),\n",
      "   ('minister', 0.013306913),\n",
      "   ('china', 0.010779023),\n",
      "   ('amp', 0.010516245),\n",
      "   ('world', 0.009709142),\n",
      "   ('people', 0.009226074)]),\n",
      " (4,\n",
      "  [('china', 0.04505728),\n",
      "   ('taiwan', 0.029519709),\n",
      "   ('taiwans', 0.016170511),\n",
      "   ('chinataiwancrisis', 0.015453627),\n",
      "   ('time', 0.012196506),\n",
      "   ('war', 0.011026716),\n",
      "   ('dead', 0.010007001),\n",
      "   ('found', 0.00961541),\n",
      "   ('hotel', 0.00926368),\n",
      "   ('ukraine', 0.009194314)])]\n"
     ]
    }
   ],
   "source": [
    "pprint(lda_model.show_topics(formatted=False)[:5])\n"
   ]
  },
  {
   "cell_type": "code",
   "execution_count": 16,
   "metadata": {},
   "outputs": [
    {
     "name": "stdout",
     "output_type": "stream",
     "text": [
      "\n",
      "Perplexity:  -8.16721597515503\n",
      "\n",
      " Ldamodel Coherence Score/Accuracy on Tweets:  0.2870320038526215\n"
     ]
    }
   ],
   "source": [
    "# Compute Perplexity\n",
    "\n",
    "#It's a measure of how good the model is. The lower the better. Perplexity is a negative value\n",
    "print('\\nPerplexity: ', lda_model.log_perplexity(corpus))\n",
    "doc_lda = lda_model[corpus]\n",
    "\n",
    "\n",
    "# Compute Coherence Score\n",
    "coherence_model_lda = CoherenceModel(\n",
    "    model=lda_model, texts=word_list, dictionary=id2word, coherence='c_v')\n",
    "coherence_lda = coherence_model_lda.get_coherence()\n",
    "print('\\n Ldamodel Coherence Score/Accuracy on Tweets: ', coherence_lda)\n"
   ]
  },
  {
   "cell_type": "code",
   "execution_count": 18,
   "metadata": {},
   "outputs": [
    {
     "name": "stderr",
     "output_type": "stream",
     "text": [
      "/Users/user/miniforge3/envs/10A/lib/python3.10/site-packages/past/builtins/misc.py:45: DeprecationWarning: the imp module is deprecated in favour of importlib and slated for removal in Python 3.12; see the module's documentation for alternative uses\n",
      "  from imp import reload\n",
      "/Users/user/miniforge3/envs/10A/lib/python3.10/site-packages/past/builtins/misc.py:45: DeprecationWarning: the imp module is deprecated in favour of importlib and slated for removal in Python 3.12; see the module's documentation for alternative uses\n",
      "  from imp import reload\n",
      "/Users/user/miniforge3/envs/10A/lib/python3.10/site-packages/past/builtins/misc.py:45: DeprecationWarning: the imp module is deprecated in favour of importlib and slated for removal in Python 3.12; see the module's documentation for alternative uses\n",
      "  from imp import reload\n",
      "/Users/user/miniforge3/envs/10A/lib/python3.10/site-packages/past/builtins/misc.py:45: DeprecationWarning: the imp module is deprecated in favour of importlib and slated for removal in Python 3.12; see the module's documentation for alternative uses\n",
      "  from imp import reload\n",
      "/Users/user/miniforge3/envs/10A/lib/python3.10/site-packages/past/builtins/misc.py:45: DeprecationWarning: the imp module is deprecated in favour of importlib and slated for removal in Python 3.12; see the module's documentation for alternative uses\n",
      "  from imp import reload\n",
      "/Users/user/miniforge3/envs/10A/lib/python3.10/site-packages/past/builtins/misc.py:45: DeprecationWarning: the imp module is deprecated in favour of importlib and slated for removal in Python 3.12; see the module's documentation for alternative uses\n",
      "  from imp import reload\n",
      "/Users/user/miniforge3/envs/10A/lib/python3.10/site-packages/past/builtins/misc.py:45: DeprecationWarning: the imp module is deprecated in favour of importlib and slated for removal in Python 3.12; see the module's documentation for alternative uses\n",
      "  from imp import reload\n",
      "/Users/user/miniforge3/envs/10A/lib/python3.10/site-packages/past/builtins/misc.py:45: DeprecationWarning: the imp module is deprecated in favour of importlib and slated for removal in Python 3.12; see the module's documentation for alternative uses\n",
      "  from imp import reload\n"
     ]
    },
    {
     "data": {
      "text/html": [
       "\n",
       "<link rel=\"stylesheet\" type=\"text/css\" href=\"https://cdn.jsdelivr.net/gh/bmabey/pyLDAvis@3.3.1/pyLDAvis/js/ldavis.v1.0.0.css\">\n",
       "\n",
       "\n",
       "<div id=\"ldavis_el20449108199349607692297753\"></div>\n",
       "<script type=\"text/javascript\">\n",
       "\n",
       "var ldavis_el20449108199349607692297753_data = {\"mdsDat\": {\"x\": [0.19164698193445062, 0.17877172690001036, -0.21172632809155678, -0.24826060345891984, 0.08956822271601551], \"y\": [0.29985198845580807, -0.18482307973140477, 0.01749320370488378, 0.026199793879041627, -0.15872190630832875], \"topics\": [1, 2, 3, 4, 5], \"cluster\": [1, 1, 1, 1, 1], \"Freq\": [23.861187692258287, 21.61676118936345, 21.333146385041633, 19.5750512902609, 13.613853443075726]}, \"tinfo\": {\"Term\": [\"missile\", \"military\", \"indopacinfo\", \"us\", \"th\", \"august\", \"visit\", \"chinas\", \"pelosi\", \"drills\", \"island\", \"good\", \"around\", \"launches\", \"infographic\", \"chinese\", \"near\", \"chinataiwancrisis\", \"pelosis\", \"taiwan\", \"speaker\", \"williamyang\", \"japan\", \"taiwans\", \"said\", \"minister\", \"strait\", \"part\", \"president\", \"pla\", \"chinataiwancrisis\", \"time\", \"war\", \"dead\", \"found\", \"support\", \"head\", \"watch\", \"national\", \"maybe\", \"programme\", \"jenniferatntd\", \"gazaunderattack\", \"palestinian\", \"somalia\", \"israeli\", \"one\", \"democracy\", \"respond\", \"cries\", \"dareenkhann\", \"great\", \"million\", \"murdered\", \"citizens\", \"cheating\", \"gaza\", \"israel\", \"father\", \"defense\", \"hotel\", \"taiwans\", \"china\", \"ukraine\", \"cgmeifangzhang\", \"video\", \"taiwan\", \"pelosi\", \"russia\", \"us\", \"pelosis\", \"minister\", \"people\", \"authorities\", \"check\", \"democratic\", \"thing\", \"crisis\", \"official\", \"responsible\", \"delegation\", \"david\", \"called\", \"forget\", \"easily\", \"funny\", \"trip\", \"ashawo\", \"balogun\", \"hundeyin\", \"multimeverse\", \"nigerians\", \"tafa\", \"biden\", \"warned\", \"unless\", \"talking\", \"showing\", \"small\", \"abs\", \"fulliv\", \"stop\", \"spokespersonchn\", \"visit\", \"world\", \"us\", \"taiwan\", \"pelosi\", \"ccp\", \"amp\", \"travel\", \"china\", \"video\", \"ukraine\", \"epochtimeschina\", \"missile\", \"good\", \"launches\", \"infographic\", \"near\", \"part\", \"waters\", \"president\", \"army\", \"fired\", \"drones\", \"tensions\", \"entered\", \"kinmen\", \"exercises\", \"restricted\", \"jingjingli\", \"taiwanese\", \"speech\", \"forces\", \"based\", \"nicaragua\", \"amid\", \"day\", \"tension\", \"thought\", \"peoples\", \"firm\", \"currency\", \"sorry\", \"island\", \"said\", \"indopacinfo\", \"country\", \"chinas\", \"taiwan\", \"chinese\", \"amp\", \"china\", \"government\", \"military\", \"attack\", \"drills\", \"around\", \"strait\", \"pla\", \"speakerpelosi\", \"nancypelosi\", \"chinataiwan\", \"aircraft\", \"iingwen\", \"high\", \"air\", \"taiwanstraitscrisis\", \"friday\", \"taipei\", \"democrats\", \"america\", \"practice\", \"followed\", \"coincidence\", \"foot\", \"force\", \"nancys\", \"hamletgarcia\", \"madam\", \"devil\", \"destruc\", \"thatwhere\", \"breaking\", \"show\", \"media\", \"th\", \"august\", \"set\", \"beijing\", \"military\", \"usa\", \"taiwan\", \"chinese\", \"chinas\", \"indopacinfo\", \"china\", \"speaker\", \"japan\", \"nancy\", \"missiles\", \"islands\", \"house\", \"must\", \"thursday\", \"uk\", \"benedictrogers\", \"united\", \"long\", \"states\", \"response\", \"sanctions\", \"let\", \"policy\", \"defend\", \"take\", \"australia\", \"within\", \"councilor\", \"send\", \"back\", \"ballistic\", \"redress\", \"wrongdoings\", \"taiwanchina\", \"f\", \"rnc\", \"today\", \"new\", \"williamyang\", \"us\", \"pelosi\", \"taiwan\", \"visit\", \"china\", \"epochtimeschina\", \"chinese\", \"world\"], \"Freq\": [1902.0, 2555.0, 3043.0, 3082.0, 1545.0, 1573.0, 2269.0, 2531.0, 2743.0, 1277.0, 1563.0, 1249.0, 1071.0, 1095.0, 1082.0, 2553.0, 1034.0, 1066.0, 991.0, 16944.0, 712.0, 918.0, 673.0, 1310.0, 949.0, 832.0, 778.0, 820.0, 784.0, 738.0, 1065.841093043937, 841.1965297455478, 760.5157437394489, 690.1857501755326, 663.1775835373315, 624.9500579327848, 562.0908156008829, 564.3824129471363, 521.7517393863075, 460.6860593063609, 438.30858809610646, 426.28341881726095, 377.6958511344217, 346.0143700852254, 350.8890888991575, 340.7846001351958, 327.7279037293326, 324.50183620163244, 320.91243140548625, 315.1501971600825, 315.0343518911631, 315.59392275902627, 321.0399350699193, 296.9784841021794, 316.06003376202796, 292.7492806916326, 527.598344444423, 289.5656394462287, 279.844946347248, 296.9957308195095, 638.9186785320767, 1115.2847659356244, 3107.613604463372, 634.1344327213455, 591.463035068199, 527.4289925999506, 2035.9827530832456, 583.0071333568852, 381.17005299748945, 426.75373712002096, 990.847847234864, 831.4533922215386, 576.4711102770323, 547.6994093486574, 488.20344463578914, 411.92337670230467, 397.52533508599356, 392.4298699357362, 403.7502712011384, 371.5582392542835, 366.1590427507594, 360.43598058067613, 374.48955668388015, 356.35694910174925, 349.9300006496248, 344.22465783907205, 353.8912231191277, 336.3526650666113, 336.3526650666113, 336.3526650666113, 336.3526650666113, 336.3526650666113, 336.3526650666113, 342.8317823391599, 332.91336356797706, 332.9428667380328, 327.5744536210167, 329.56955457833993, 320.3199325200787, 318.9669183051531, 329.76237263352704, 362.9980137554916, 558.0988403558978, 1768.9138275448497, 606.6545408021597, 1305.2486407968852, 3451.1334918514317, 1050.1729612430304, 481.63765089026606, 657.0845945176467, 461.70898691328887, 673.5037196660934, 408.06494979474166, 382.4820061861545, 348.3335707338247, 1901.7849973042803, 1248.879256582723, 1094.3256817549802, 1081.8747940815, 1033.263337435429, 820.0816837520642, 733.1173949971369, 784.0250023472813, 659.1761508189905, 638.8952761111161, 578.5771435058958, 575.6584139612437, 533.4868953839542, 528.7879498556196, 556.3985547691566, 514.2959500013583, 498.0930499701278, 492.3332912010248, 423.85981223834966, 425.9489343730765, 415.47779687584324, 404.6362189385073, 389.22152060333286, 420.56191317105925, 341.32958155652494, 334.62633530731233, 302.84457850388185, 294.4382135953552, 291.24408723952365, 289.83597711300666, 1476.8323556178361, 911.0097799725784, 2157.6456623436634, 576.799971215466, 1723.2947850315024, 5933.037489389352, 1371.0585019876723, 898.8148496731837, 1815.2235097658292, 461.051676369977, 603.7264342852787, 441.8630568284514, 1277.1686524191582, 1070.7987787493157, 777.3595501430391, 737.9389371488501, 707.0584100873949, 566.8632549192856, 463.19304580870613, 416.87452112029723, 406.72927949326174, 406.35053104269235, 386.6576667351128, 370.3904273700881, 375.5542112889255, 351.5990765918777, 344.02452914398316, 346.86665751705567, 344.9585557577351, 325.8852843937095, 325.7999704818526, 319.28254618760985, 320.2055331073939, 313.86650921376366, 313.4539039451782, 313.4539039451782, 313.3054609002733, 313.3054609002733, 313.3054609002733, 315.91225145348596, 309.00569770766344, 288.20003751766325, 1540.3573806039806, 1551.1249553372734, 378.06185537817345, 578.9070604316169, 1951.006805364579, 637.7623827894773, 3336.288261067833, 936.9157991498884, 807.9256435342963, 852.2830285064458, 904.8282831130883, 711.352258923976, 672.7538464969929, 489.6725233283965, 482.97801943837845, 449.8450444046731, 443.2884472214933, 366.7506280551073, 366.3415988882135, 338.0008361070424, 305.7087694819888, 283.2869457001995, 263.12896514141426, 232.5029749853816, 232.78263644695014, 226.74252058704192, 215.0274136400741, 219.33493677454058, 197.72966875545728, 186.7352095584939, 169.4327187481435, 172.29529989912234, 169.22014158816071, 179.05071289006122, 167.4331447951396, 162.63153231132605, 152.29452125874863, 152.29452125874863, 156.59509958297173, 150.56792965561485, 147.69973218711726, 467.21824767605045, 376.1010912483354, 725.1561229148568, 1349.87599696111, 1109.8673129419783, 2187.588693458615, 500.17930658916634, 652.6655705771676, 229.86651245815818, 245.26302849947092, 203.74068604368608], \"Total\": [1902.0, 2555.0, 3043.0, 3082.0, 1545.0, 1573.0, 2269.0, 2531.0, 2743.0, 1277.0, 1563.0, 1249.0, 1071.0, 1095.0, 1082.0, 2553.0, 1034.0, 1066.0, 991.0, 16944.0, 712.0, 918.0, 673.0, 1310.0, 949.0, 832.0, 778.0, 820.0, 784.0, 738.0, 1066.8262876382537, 842.0490506443304, 761.3723077546583, 691.0312088614733, 664.02367834595, 625.8373952925705, 562.9370954523102, 565.2331048729462, 522.6072301045753, 461.5322249913898, 439.15271626948675, 427.12714379079665, 378.5412648329957, 346.8579908768409, 351.74593386329246, 341.6292803950003, 328.5846846119766, 325.3579832943009, 321.7668790910527, 315.9932607543209, 315.8774100261229, 316.44255486126417, 321.9417265428309, 297.82315364389393, 316.96259191651734, 293.5931855414711, 529.136643252961, 290.41907400005266, 280.687747808121, 297.8921851774025, 670.263333835459, 1310.7526394589665, 7153.8346875855505, 1017.2772237523503, 1001.5717365608127, 936.1630116261274, 16944.03068885048, 2743.494038919093, 679.9363696524274, 3082.3453724077026, 991.6858067701573, 832.2988508447147, 577.3139228943976, 548.534137223659, 489.03514287357257, 412.76277492011906, 398.36927288546565, 393.2723036411559, 404.62857688765325, 372.4001320694296, 367.000131728578, 361.26745339708845, 375.35494468494636, 357.1892571319887, 350.7606308289944, 345.05390050498346, 354.74778415135864, 337.1818514434438, 337.1818514434438, 337.1818514434438, 337.1818514434438, 337.1818514434438, 337.1818514434438, 343.6884102486163, 333.750265884275, 333.7805748007287, 328.40707946634643, 330.41075982819086, 321.1523081265673, 319.804608519746, 330.6542369452161, 364.34504107846413, 576.3736792105769, 2269.7546054695877, 811.0270989343068, 3082.3453724077026, 16944.03068885048, 2743.494038919093, 662.8529086147933, 1737.1929488119451, 778.5893490524728, 7153.8346875855505, 936.1630116261274, 1017.2772237523503, 578.8593278395863, 1902.6815705060944, 1249.7146067225267, 1095.1546761171624, 1082.7038121944709, 1034.0976104866045, 820.92308808981, 733.9539764325636, 784.9553820680527, 660.0029640455332, 639.7269451571992, 579.4025616329382, 576.5027983451479, 534.3115705170779, 529.6118860202803, 557.2656405377609, 515.1195398746667, 498.9249288597725, 493.17792367033474, 424.6847946684817, 426.78549227173335, 416.3019403553785, 405.4599769439197, 390.051200520772, 421.523939477186, 342.16993455315895, 335.4520200022504, 303.68444335680084, 295.2697152583057, 292.0680718792487, 290.6600567489483, 1563.5398904034823, 949.1565662885366, 3043.35764504369, 652.0639509040376, 2531.809712746534, 16944.03068885048, 2553.612875677685, 1737.1929488119451, 7153.8346875855505, 542.553896445681, 2555.320666487144, 625.3463723734079, 1277.954108512044, 1071.5862036557169, 778.1420013012023, 738.7294859545335, 707.870887313445, 567.672749934079, 463.98542089658184, 417.6560844530331, 407.51571310184744, 407.14922015579106, 387.4436543037334, 371.1911045249676, 376.3899573737638, 352.3869739425113, 344.80718976900647, 347.6699183427571, 345.75908824683046, 326.66398777335564, 326.5793380417304, 320.06130796331297, 320.99867447917086, 314.6447898165221, 314.2321432515213, 314.2321432515213, 314.0836959055206, 314.0836959197276, 314.0836959197276, 316.701321796107, 309.831990876424, 288.9829122418171, 1545.5345897353104, 1573.7723304882493, 386.37470482192117, 624.1910444442306, 2555.320666487144, 944.094173224072, 16944.03068885048, 2553.612875677685, 2531.809712746534, 3043.35764504369, 7153.8346875855505, 712.181847585074, 673.5820589103537, 490.4865584146347, 483.7953998976375, 450.66696835869226, 444.10434789793817, 367.56203121692175, 367.1583688323542, 338.82822295911825, 306.523939714041, 284.0969657732842, 263.95644227004794, 233.31551230935347, 233.6058763551648, 227.55456085209036, 215.84958821659214, 220.17771984073084, 198.53801018470529, 187.56062660662715, 170.24254767412918, 173.12032203559838, 170.03638400183655, 179.91997248972922, 168.25712771176094, 163.4424693596306, 153.10797332083226, 153.10797332083226, 157.44797039231807, 151.38887858948186, 148.50696886253075, 474.74192541463884, 387.9315184295138, 918.8001876611715, 3082.3453724077026, 2743.494038919093, 16944.03068885048, 2269.7546054695877, 7153.8346875855505, 578.8593278395863, 2553.612875677685, 811.0270989343068], \"Category\": [\"Default\", \"Default\", \"Default\", \"Default\", \"Default\", \"Default\", \"Default\", \"Default\", \"Default\", \"Default\", \"Default\", \"Default\", \"Default\", \"Default\", \"Default\", \"Default\", \"Default\", \"Default\", \"Default\", \"Default\", \"Default\", \"Default\", \"Default\", \"Default\", \"Default\", \"Default\", \"Default\", \"Default\", \"Default\", \"Default\", \"Topic1\", \"Topic1\", \"Topic1\", \"Topic1\", \"Topic1\", \"Topic1\", \"Topic1\", \"Topic1\", \"Topic1\", \"Topic1\", \"Topic1\", \"Topic1\", \"Topic1\", \"Topic1\", \"Topic1\", \"Topic1\", \"Topic1\", \"Topic1\", \"Topic1\", \"Topic1\", \"Topic1\", \"Topic1\", \"Topic1\", \"Topic1\", \"Topic1\", \"Topic1\", \"Topic1\", \"Topic1\", \"Topic1\", \"Topic1\", \"Topic1\", \"Topic1\", \"Topic1\", \"Topic1\", \"Topic1\", \"Topic1\", \"Topic1\", \"Topic1\", \"Topic1\", \"Topic1\", \"Topic2\", \"Topic2\", \"Topic2\", \"Topic2\", \"Topic2\", \"Topic2\", \"Topic2\", \"Topic2\", \"Topic2\", \"Topic2\", \"Topic2\", \"Topic2\", \"Topic2\", \"Topic2\", \"Topic2\", \"Topic2\", \"Topic2\", \"Topic2\", \"Topic2\", \"Topic2\", \"Topic2\", \"Topic2\", \"Topic2\", \"Topic2\", \"Topic2\", \"Topic2\", \"Topic2\", \"Topic2\", \"Topic2\", \"Topic2\", \"Topic2\", \"Topic2\", \"Topic2\", \"Topic2\", \"Topic2\", \"Topic2\", \"Topic2\", \"Topic2\", \"Topic2\", \"Topic2\", \"Topic2\", \"Topic2\", \"Topic2\", \"Topic2\", \"Topic2\", \"Topic3\", \"Topic3\", \"Topic3\", \"Topic3\", \"Topic3\", \"Topic3\", \"Topic3\", \"Topic3\", \"Topic3\", \"Topic3\", \"Topic3\", \"Topic3\", \"Topic3\", \"Topic3\", \"Topic3\", \"Topic3\", \"Topic3\", \"Topic3\", \"Topic3\", \"Topic3\", \"Topic3\", \"Topic3\", \"Topic3\", \"Topic3\", \"Topic3\", \"Topic3\", \"Topic3\", \"Topic3\", \"Topic3\", \"Topic3\", \"Topic3\", \"Topic3\", \"Topic3\", \"Topic3\", \"Topic3\", \"Topic3\", \"Topic3\", \"Topic3\", \"Topic3\", \"Topic3\", \"Topic3\", \"Topic3\", \"Topic4\", \"Topic4\", \"Topic4\", \"Topic4\", \"Topic4\", \"Topic4\", \"Topic4\", \"Topic4\", \"Topic4\", \"Topic4\", \"Topic4\", \"Topic4\", \"Topic4\", \"Topic4\", \"Topic4\", \"Topic4\", \"Topic4\", \"Topic4\", \"Topic4\", \"Topic4\", \"Topic4\", \"Topic4\", \"Topic4\", \"Topic4\", \"Topic4\", \"Topic4\", \"Topic4\", \"Topic4\", \"Topic4\", \"Topic4\", \"Topic4\", \"Topic4\", \"Topic4\", \"Topic4\", \"Topic4\", \"Topic4\", \"Topic4\", \"Topic4\", \"Topic4\", \"Topic4\", \"Topic4\", \"Topic5\", \"Topic5\", \"Topic5\", \"Topic5\", \"Topic5\", \"Topic5\", \"Topic5\", \"Topic5\", \"Topic5\", \"Topic5\", \"Topic5\", \"Topic5\", \"Topic5\", \"Topic5\", \"Topic5\", \"Topic5\", \"Topic5\", \"Topic5\", \"Topic5\", \"Topic5\", \"Topic5\", \"Topic5\", \"Topic5\", \"Topic5\", \"Topic5\", \"Topic5\", \"Topic5\", \"Topic5\", \"Topic5\", \"Topic5\", \"Topic5\", \"Topic5\", \"Topic5\", \"Topic5\", \"Topic5\", \"Topic5\", \"Topic5\", \"Topic5\", \"Topic5\", \"Topic5\", \"Topic5\"], \"logprob\": [30.0, 29.0, 28.0, 27.0, 26.0, 25.0, 24.0, 23.0, 22.0, 21.0, 20.0, 19.0, 18.0, 17.0, 16.0, 15.0, 14.0, 13.0, 12.0, 11.0, 10.0, 9.0, 8.0, 7.0, 6.0, 5.0, 4.0, 3.0, 2.0, 1.0, -4.1699, -4.4066, -4.5074, -4.6045, -4.6444, -4.7038, -4.8098, -4.8057, -4.8842, -5.0087, -5.0585, -5.0863, -5.2073, -5.295, -5.281, -5.3102, -5.3492, -5.3591, -5.3703, -5.3884, -5.3887, -5.387, -5.3699, -5.4478, -5.3855, -5.4621, -4.8731, -5.473, -5.5072, -5.4477, -4.6817, -4.1246, -3.0998, -4.6892, -4.7588, -4.8734, -3.5227, -4.7732, -5.1982, -5.0852, -4.1441, -4.3195, -4.6857, -4.7369, -4.8519, -5.0218, -5.0574, -5.0703, -5.0419, -5.1249, -5.1396, -5.1553, -5.1171, -5.1667, -5.1849, -5.2014, -5.1737, -5.2245, -5.2245, -5.2245, -5.2245, -5.2245, -5.2245, -5.2054, -5.2348, -5.2347, -5.2509, -5.2449, -5.2733, -5.2776, -5.2443, -5.1482, -4.7181, -3.5645, -4.6347, -3.8685, -2.8962, -4.0859, -4.8655, -4.5548, -4.9077, -4.5302, -5.0312, -5.096, -5.1895, -3.4789, -3.8994, -4.0315, -4.043, -4.089, -4.32, -4.4321, -4.365, -4.5384, -4.5697, -4.6689, -4.6739, -4.75, -4.7589, -4.708, -4.7866, -4.8187, -4.8303, -4.98, -4.9751, -5.0, -5.0265, -5.0653, -4.9878, -5.1966, -5.2164, -5.3162, -5.3444, -5.3553, -5.3601, -3.7318, -4.2149, -3.3527, -4.6719, -3.5774, -2.3411, -3.8061, -4.2284, -3.5255, -4.8959, -4.6263, -4.9384, -3.791, -3.9673, -4.2875, -4.3396, -4.3823, -4.6033, -4.8053, -4.9106, -4.9353, -4.9362, -4.9859, -5.0289, -5.015, -5.0809, -5.1027, -5.0945, -5.1, -5.1569, -5.1572, -5.1774, -5.1745, -5.1945, -5.1958, -5.1958, -5.1963, -5.1963, -5.1963, -5.188, -5.2101, -5.2798, -3.6037, -3.5967, -5.0084, -4.5823, -3.3673, -4.4855, -2.8308, -4.1008, -4.249, -4.1955, -4.1357, -4.0131, -4.0689, -4.3865, -4.4003, -4.4714, -4.486, -4.6756, -4.6767, -4.7572, -4.8576, -4.9338, -5.0076, -5.1314, -5.1302, -5.1565, -5.2095, -5.1897, -5.2934, -5.3506, -5.4478, -5.4311, -5.4491, -5.3926, -5.4597, -5.4888, -5.5544, -5.5544, -5.5266, -5.5659, -5.5851, -4.4335, -4.6504, -3.9939, -3.3725, -3.5683, -2.8897, -4.3653, -4.0992, -5.1428, -5.0779, -5.2634], \"loglift\": [30.0, 29.0, 28.0, 27.0, 26.0, 25.0, 24.0, 23.0, 22.0, 21.0, 20.0, 19.0, 18.0, 17.0, 16.0, 15.0, 14.0, 13.0, 12.0, 11.0, 10.0, 9.0, 8.0, 7.0, 6.0, 5.0, 4.0, 3.0, 2.0, 1.0, 1.432, 1.4319, 1.4318, 1.4317, 1.4316, 1.4315, 1.4314, 1.4314, 1.4313, 1.4311, 1.431, 1.4309, 1.4307, 1.4305, 1.4305, 1.4304, 1.4303, 1.4303, 1.4303, 1.4302, 1.4302, 1.4302, 1.4301, 1.4301, 1.4301, 1.43, 1.43, 1.43, 1.4299, 1.4299, 1.385, 1.2714, 0.5991, 0.9603, 0.9062, 0.8591, -0.686, -0.1159, 0.8542, -0.5443, 1.5309, 1.5307, 1.5302, 1.5302, 1.53, 1.5297, 1.5296, 1.5296, 1.5295, 1.5294, 1.5294, 1.5294, 1.5294, 1.5294, 1.5293, 1.5293, 1.5293, 1.5292, 1.5292, 1.5292, 1.5292, 1.5292, 1.5292, 1.5292, 1.5292, 1.5292, 1.5292, 1.5292, 1.5291, 1.5291, 1.529, 1.528, 1.4995, 1.2824, 1.2414, 0.6724, -0.0595, 0.5714, 1.2123, 0.5595, 1.0092, -0.8312, 0.7013, 0.5535, 1.0238, 1.5444, 1.5442, 1.5442, 1.5441, 1.5441, 1.5439, 1.5438, 1.5437, 1.5437, 1.5436, 1.5435, 1.5434, 1.5434, 1.5434, 1.5434, 1.5433, 1.5432, 1.5432, 1.543, 1.5429, 1.5429, 1.5429, 1.5428, 1.5426, 1.5424, 1.5424, 1.5421, 1.5421, 1.5421, 1.5421, 1.4879, 1.5039, 1.201, 1.4223, 1.1602, 0.4955, 0.923, 0.886, 0.1735, 1.3821, 0.1021, 1.1976, 1.6303, 1.6302, 1.6299, 1.6298, 1.6298, 1.6295, 1.6292, 1.629, 1.629, 1.629, 1.6289, 1.6288, 1.6287, 1.6287, 1.6286, 1.6286, 1.6286, 1.6285, 1.6285, 1.6285, 1.6284, 1.6284, 1.6284, 1.6284, 1.6284, 1.6284, 1.6284, 1.6284, 1.6282, 1.6282, 1.6276, 1.6164, 1.6092, 1.5556, 1.3611, 1.2387, 0.0059, 0.6282, 0.4887, 0.3581, -0.4367, 1.9929, 1.9929, 1.9924, 1.9924, 1.9923, 1.9922, 1.9919, 1.9919, 1.9916, 1.9914, 1.9912, 1.9909, 1.9906, 1.9906, 1.9905, 1.9903, 1.9902, 1.99, 1.9897, 1.9893, 1.9893, 1.9893, 1.9892, 1.9892, 1.9891, 1.9888, 1.9888, 1.9887, 1.9886, 1.9886, 1.9781, 1.9631, 1.7574, 1.1684, 1.0891, -0.053, 0.4816, -0.4003, 1.0705, -0.3489, 0.6126]}, \"token.table\": {\"Topic\": [2, 4, 4, 4, 3, 2, 3, 4, 3, 4, 2, 3, 4, 2, 4, 5, 2, 5, 5, 2, 3, 2, 4, 5, 2, 4, 2, 1, 2, 1, 2, 3, 5, 1, 2, 1, 2, 3, 4, 5, 3, 4, 4, 1, 3, 4, 5, 1, 4, 5, 1, 3, 4, 1, 2, 3, 1, 2, 3, 1, 5, 1, 2, 1, 2, 4, 4, 4, 4, 3, 2, 3, 2, 5, 3, 5, 1, 3, 3, 4, 4, 4, 3, 2, 1, 4, 2, 2, 1, 2, 1, 3, 1, 2, 3, 1, 4, 1, 4, 1, 2, 5, 2, 4, 3, 4, 5, 3, 2, 3, 4, 5, 1, 1, 5, 1, 3, 3, 3, 5, 5, 4, 1, 4, 3, 4, 1, 2, 3, 5, 2, 1, 5, 5, 4, 4, 1, 3, 2, 5, 3, 2, 2, 1, 1, 3, 1, 2, 5, 2, 2, 3, 4, 5, 4, 3, 1, 5, 1, 5, 2, 3, 5, 1, 2, 2, 3, 4, 5, 5, 3, 4, 4, 2, 2, 1, 3, 5, 4, 3, 2, 4, 5, 5, 2, 3, 4, 1, 2, 4, 1, 2, 3, 4, 5, 5, 3, 1, 4, 4, 5, 2, 3, 3, 4, 5, 4, 2, 3, 5, 1, 2, 5, 2, 3, 2, 5, 1, 2, 5, 2, 1, 2, 5, 3, 4, 1, 2, 2, 5, 1, 2, 1, 3, 4, 5, 5, 2, 5, 5], \"Freq\": [0.9974840621482278, 0.998854919163586, 0.998429127510755, 0.9980731196246416, 0.9973049678622485, 0.37819633129947827, 0.5175015248679314, 0.10419107452847118, 0.9984803643314184, 0.9994529570708198, 0.9964949138324486, 0.7068082898161792, 0.29263782134923255, 0.013979150334390927, 0.9855300985745604, 0.9927013094487541, 0.9990262461578737, 0.9925285322003445, 0.9972928128082976, 0.9964949138324486, 0.9968726056038386, 0.0720933124570335, 0.9276006202804977, 0.9982907054028806, 0.9979969931249112, 0.9977855419354439, 0.9963902308891025, 0.27306208911151564, 0.7271598174129864, 0.5900725613817439, 0.20268143817342474, 0.1857081157648128, 0.020967045328285316, 0.9979795663840866, 0.9978832955286402, 0.4344523092480018, 0.09421520477257182, 0.2537100840685725, 0.12650557910857196, 0.09127971619657181, 0.6805408760877496, 0.31913930811311764, 0.9978761813363065, 0.9992254712432304, 0.536886390673512, 0.3669311072655585, 0.09594249869803824, 0.9969630740627876, 0.9982260419621024, 0.9939049280074942, 0.11348580135031935, 0.8848825321504631, 0.0015335919101394507, 0.9968567027285651, 0.9967648277557913, 0.9963430721051555, 0.9972223084073966, 0.9964916479877435, 0.9987570350622652, 0.9985077246175723, 0.9972901401388844, 0.9970050064358984, 0.9972748464043667, 0.9988997248794198, 0.9981520258936464, 0.9976590112011666, 0.9965496587890237, 0.9965496588341008, 0.9992534094098614, 0.9993052125420302, 0.9978314817509687, 0.9975453076641992, 0.6011823309452446, 0.39733314976266165, 0.9977288380160321, 0.9974312605185723, 0.997549776171238, 0.9988636633759101, 0.9956998120948674, 0.9979673676982835, 0.996684047909238, 0.9968888517038544, 0.9981595150586018, 0.9966705125973336, 0.9984583707187974, 0.9989639538299993, 0.9980213864753092, 0.9969456931121744, 0.9978518908726992, 0.0018898710054407182, 0.9985701299084672, 0.9994281840680403, 0.031333292621006904, 0.1179606310437907, 0.849685170487305, 0.9986014685620959, 0.9960788758311876, 0.998335346062854, 0.9971773981162206, 0.9533566402080205, 0.04625047863293996, 0.9975133143749542, 0.9964949138324486, 0.9987344951733959, 0.7090852445536417, 0.2799539519739123, 0.010843286872228998, 0.9993499494630537, 0.007035317785951322, 0.9446513063500094, 0.04796807581330447, 0.9985200416149395, 0.9985570024920175, 0.9981580021645898, 0.9991358752765843, 0.9973611047502317, 0.9981461562526325, 0.9988446520245642, 0.9989456501968688, 0.9960639803688686, 0.9963765147695489, 0.9960788758311876, 0.9988468302697613, 0.9965987184702652, 0.23636955154842942, 0.7635049587267977, 0.9970748540335432, 0.9984394417421141, 0.99964178424984, 0.9983559167825784, 0.9964949138324486, 0.9972360992292824, 0.9984709214521941, 0.9990080086675415, 0.9988148983121753, 0.9979507373476671, 0.9988380755764635, 0.9989385813529846, 0.028355520181840222, 0.9692432353065384, 0.9988655429140338, 0.9964949138324486, 0.9984465336272387, 0.9982205968830621, 0.9975263914933257, 0.9988755486315315, 0.2125027398381721, 0.382723630926382, 0.4045935526936038, 0.9993084434954344, 0.9977240755119673, 0.9977462021128403, 0.9990125127419397, 0.9946510489726991, 0.9978045747092884, 0.9987828836009307, 0.9973751357402982, 0.9927634511985176, 0.9976166624320718, 0.9974064164625566, 0.9989255318809741, 0.9978266406377458, 0.9965862284685102, 0.5603465515379933, 0.43827630540241996, 0.016857071391882587, 0.9597995023753149, 0.02317847316383856, 0.9975629543525132, 0.9948867683948666, 0.02070528919248783, 0.97832491434505, 0.9973147031264572, 0.9987568206664805, 0.9964119575123429, 0.9978793390584513, 0.9977291109197077, 0.9983405255426243, 0.9987697088140604, 0.9983875225176916, 0.9681219322233066, 0.027759768665901262, 0.0034699710832376577, 0.9986477011055522, 0.9963083315900697, 0.0027446510512123133, 0.9985323998713697, 0.9986619602809464, 0.9964949138324486, 0.9989018494691168, 0.1201603111672673, 0.20367054707182686, 0.3501528124535348, 0.19688349609725134, 0.12913102202061927, 0.9971548036395652, 0.9976115644804853, 0.8506563072497291, 0.14876948871183604, 0.996791128584582, 0.9970109579138752, 0.9987604424758202, 0.9965808376627632, 0.9991278475202702, 0.9964189803501853, 0.0032351265595785238, 0.9965496587890237, 0.9990730387341601, 0.9986525047538919, 0.9968450430912468, 0.9987541691977116, 0.014744853203951202, 0.9836923494636016, 0.5933808374880088, 0.40586221784894116, 0.9978920681544283, 0.9975556258215887, 0.6232322765090662, 0.37551219183984746, 0.996138762797771, 0.9976614133366069, 0.13853087451600496, 0.423378902209336, 0.4379781746993131, 0.32412020821504817, 0.6757800419647083, 0.5629361483579597, 0.43582153421261394, 0.7793794076844766, 0.22028813105835968, 0.9995110043393143, 0.997752014122634, 0.9978184135672248, 0.9987002230886458, 0.21005655265622686, 0.789072542361474, 0.9935286509265618, 0.7484336846421047, 0.2515329022520418, 0.9927634511985176], \"Term\": [\"abs\", \"air\", \"aircraft\", \"america\", \"amid\", \"amp\", \"amp\", \"amp\", \"army\", \"around\", \"ashawo\", \"attack\", \"attack\", \"august\", \"august\", \"australia\", \"authorities\", \"back\", \"ballistic\", \"balogun\", \"based\", \"beijing\", \"beijing\", \"benedictrogers\", \"biden\", \"breaking\", \"called\", \"ccp\", \"ccp\", \"cgmeifangzhang\", \"cgmeifangzhang\", \"cgmeifangzhang\", \"cgmeifangzhang\", \"cheating\", \"check\", \"china\", \"china\", \"china\", \"china\", \"china\", \"chinas\", \"chinas\", \"chinataiwan\", \"chinataiwancrisis\", \"chinese\", \"chinese\", \"chinese\", \"citizens\", \"coincidence\", \"councilor\", \"country\", \"country\", \"country\", \"cries\", \"crisis\", \"currency\", \"dareenkhann\", \"david\", \"day\", \"dead\", \"defend\", \"defense\", \"delegation\", \"democracy\", \"democratic\", \"democrats\", \"destruc\", \"devil\", \"drills\", \"drones\", \"easily\", \"entered\", \"epochtimeschina\", \"epochtimeschina\", \"exercises\", \"f\", \"father\", \"fired\", \"firm\", \"followed\", \"foot\", \"force\", \"forces\", \"forget\", \"found\", \"friday\", \"fulliv\", \"funny\", \"gaza\", \"gaza\", \"gazaunderattack\", \"good\", \"government\", \"government\", \"government\", \"great\", \"hamletgarcia\", \"head\", \"high\", \"hotel\", \"hotel\", \"house\", \"hundeyin\", \"iingwen\", \"indopacinfo\", \"indopacinfo\", \"indopacinfo\", \"infographic\", \"island\", \"island\", \"island\", \"islands\", \"israel\", \"israeli\", \"japan\", \"jenniferatntd\", \"jingjingli\", \"kinmen\", \"launches\", \"let\", \"long\", \"madam\", \"maybe\", \"media\", \"military\", \"military\", \"million\", \"minister\", \"missile\", \"missiles\", \"multimeverse\", \"murdered\", \"must\", \"nancy\", \"nancypelosi\", \"nancys\", \"national\", \"near\", \"new\", \"new\", \"nicaragua\", \"nigerians\", \"official\", \"one\", \"palestinian\", \"part\", \"pelosi\", \"pelosi\", \"pelosi\", \"pelosis\", \"people\", \"peoples\", \"pla\", \"policy\", \"practice\", \"president\", \"programme\", \"redress\", \"respond\", \"response\", \"responsible\", \"restricted\", \"rnc\", \"russia\", \"russia\", \"said\", \"said\", \"said\", \"sanctions\", \"send\", \"set\", \"set\", \"show\", \"showing\", \"small\", \"somalia\", \"sorry\", \"speaker\", \"speakerpelosi\", \"speech\", \"spokespersonchn\", \"spokespersonchn\", \"spokespersonchn\", \"states\", \"stop\", \"stop\", \"strait\", \"support\", \"tafa\", \"taipei\", \"taiwan\", \"taiwan\", \"taiwan\", \"taiwan\", \"taiwan\", \"taiwanchina\", \"taiwanese\", \"taiwans\", \"taiwans\", \"taiwanstraitscrisis\", \"take\", \"talking\", \"tension\", \"tensions\", \"th\", \"th\", \"thatwhere\", \"thing\", \"thought\", \"thursday\", \"time\", \"today\", \"today\", \"travel\", \"travel\", \"trip\", \"uk\", \"ukraine\", \"ukraine\", \"united\", \"unless\", \"us\", \"us\", \"us\", \"usa\", \"usa\", \"video\", \"video\", \"visit\", \"visit\", \"war\", \"warned\", \"watch\", \"waters\", \"williamyang\", \"williamyang\", \"within\", \"world\", \"world\", \"wrongdoings\"]}, \"R\": 30, \"lambda.step\": 0.01, \"plot.opts\": {\"xlab\": \"PC1\", \"ylab\": \"PC2\"}, \"topic.order\": [5, 4, 3, 2, 1]};\n",
       "\n",
       "function LDAvis_load_lib(url, callback){\n",
       "  var s = document.createElement('script');\n",
       "  s.src = url;\n",
       "  s.async = true;\n",
       "  s.onreadystatechange = s.onload = callback;\n",
       "  s.onerror = function(){console.warn(\"failed to load library \" + url);};\n",
       "  document.getElementsByTagName(\"head\")[0].appendChild(s);\n",
       "}\n",
       "\n",
       "if(typeof(LDAvis) !== \"undefined\"){\n",
       "   // already loaded: just create the visualization\n",
       "   !function(LDAvis){\n",
       "       new LDAvis(\"#\" + \"ldavis_el20449108199349607692297753\", ldavis_el20449108199349607692297753_data);\n",
       "   }(LDAvis);\n",
       "}else if(typeof define === \"function\" && define.amd){\n",
       "   // require.js is available: use it to load d3/LDAvis\n",
       "   require.config({paths: {d3: \"https://d3js.org/d3.v5\"}});\n",
       "   require([\"d3\"], function(d3){\n",
       "      window.d3 = d3;\n",
       "      LDAvis_load_lib(\"https://cdn.jsdelivr.net/gh/bmabey/pyLDAvis@3.3.1/pyLDAvis/js/ldavis.v3.0.0.js\", function(){\n",
       "        new LDAvis(\"#\" + \"ldavis_el20449108199349607692297753\", ldavis_el20449108199349607692297753_data);\n",
       "      });\n",
       "    });\n",
       "}else{\n",
       "    // require.js not available: dynamically load d3 & LDAvis\n",
       "    LDAvis_load_lib(\"https://d3js.org/d3.v5.js\", function(){\n",
       "         LDAvis_load_lib(\"https://cdn.jsdelivr.net/gh/bmabey/pyLDAvis@3.3.1/pyLDAvis/js/ldavis.v3.0.0.js\", function(){\n",
       "                 new LDAvis(\"#\" + \"ldavis_el20449108199349607692297753\", ldavis_el20449108199349607692297753_data);\n",
       "            })\n",
       "         });\n",
       "}\n",
       "</script>"
      ],
      "text/plain": [
       "PreparedData(topic_coordinates=              x         y  topics  cluster       Freq\n",
       "topic                                                \n",
       "4      0.191647  0.299852       1        1  23.861188\n",
       "3      0.178772 -0.184823       2        1  21.616761\n",
       "2     -0.211726  0.017493       3        1  21.333146\n",
       "1     -0.248261  0.026200       4        1  19.575051\n",
       "0      0.089568 -0.158722       5        1  13.613853, topic_info=                 Term         Freq        Total Category  logprob  loglift\n",
       "138           missile  1902.000000  1902.000000  Default  30.0000  30.0000\n",
       "25           military  2555.000000  2555.000000  Default  29.0000  29.0000\n",
       "22        indopacinfo  3043.000000  3043.000000  Default  28.0000  28.0000\n",
       "15                 us  3082.000000  3082.000000  Default  27.0000  27.0000\n",
       "139                th  1545.000000  1545.000000  Default  26.0000  26.0000\n",
       "...               ...          ...          ...      ...      ...      ...\n",
       "114             visit   500.179307  2269.754605   Topic5  -4.3653   0.4816\n",
       "34              china   652.665571  7153.834688   Topic5  -4.0992  -0.4003\n",
       "3190  epochtimeschina   229.866512   578.859328   Topic5  -5.1428   1.0705\n",
       "106           chinese   245.263028  2553.612876   Topic5  -5.0779  -0.3489\n",
       "279             world   203.740686   811.027099   Topic5  -5.2634   0.6126\n",
       "\n",
       "[239 rows x 6 columns], token_table=      Topic      Freq         Term\n",
       "term                              \n",
       "3266      2  0.997484          abs\n",
       "214       4  0.998855          air\n",
       "328       4  0.998429     aircraft\n",
       "193       4  0.998073      america\n",
       "1173      3  0.997305         amid\n",
       "...     ...       ...          ...\n",
       "348       5  0.789073  williamyang\n",
       "2438      5  0.993529       within\n",
       "279       2  0.748434        world\n",
       "279       5  0.251533        world\n",
       "7678      5  0.992763  wrongdoings\n",
       "\n",
       "[240 rows x 3 columns], R=30, lambda_step=0.01, plot_opts={'xlab': 'PC1', 'ylab': 'PC2'}, topic_order=[5, 4, 3, 2, 1])"
      ]
     },
     "execution_count": 18,
     "metadata": {},
     "output_type": "execute_result"
    }
   ],
   "source": [
    "import pyLDAvis.gensim_models as gensimvis\n",
    "import pickle\n",
    "import pyLDAvis\n",
    "# Visualize the topics\n",
    "pyLDAvis.enable_notebook()\n",
    "\n",
    "LDAvis_prepared = gensimvis.prepare(lda_model, corpus, id2word)\n",
    "LDAvis_prepared\n"
   ]
  },
  {
   "cell_type": "markdown",
   "metadata": {},
   "source": [
    "# Sentiment Analysis\n",
    "- create score from the polarity\n",
    "- use the score as target value\n",
    "- Building a Sentiment Classifier using Scikit-Learn"
   ]
  },
  {
   "cell_type": "code",
   "execution_count": 19,
   "metadata": {},
   "outputs": [
    {
     "data": {
      "text/plain": [
       "Index(['created_at', 'source', 'clean_text', 'polarity', 'subjectivity',\n",
       "       'lang', 'favorite_count', 'retweet_count', 'original_author',\n",
       "       'followers_count', 'friends_count', 'possibly_sensitive', 'hashtags',\n",
       "       'user_mentions', 'place', 'flattened_hashtags',\n",
       "       'flattened_user_mentions', 'score'],\n",
       "      dtype='object')"
      ]
     },
     "execution_count": 19,
     "metadata": {},
     "output_type": "execute_result"
    }
   ],
   "source": [
    "clean_tweet_data_score = PrepareData_obj.create_score(clean_tweet_df)\n",
    "clean_tweet_data_score.columns"
   ]
  },
  {
   "cell_type": "code",
   "execution_count": 20,
   "metadata": {},
   "outputs": [
    {
     "data": {
      "image/png": "[encoded data removed]",
      "text/plain": [
       "<Figure size 432x288 with 2 Axes>"
      ]
     },
     "metadata": {
      "needs_background": "light"
     },
     "output_type": "display_data"
    }
   ],
   "source": [
    "#barchart\n",
    "# .plot(kind='bar')\n",
    "sentiment_count = clean_tweet_data_score['score'].value_counts()\n",
    "keys = list(sentiment_count.keys())\n",
    "counts = [item for key, item in sentiment_count.items()]\n",
    "\n",
    "fig, ax = plt.subplots(1, 2)\n",
    "\n",
    "ax[0].bar(keys, counts, tick_label=keys,\n",
    "          width=0.8, color=['blue', 'green', 'orange'])\n",
    "ax[0].set_title('barchart')\n",
    "\n",
    "ax[1].pie(counts, labels=keys,\n",
    "          startangle=90,\n",
    "          shadow=True,\n",
    "          colors=['blue', 'green', 'orange'],\n",
    "          radius=1.2)\n",
    "ax[1].set_title('piechart')\n",
    "plt.subplots_adjust(left=0.2, right=0.99,\n",
    "                    bottom=0.2, top=0.6,\n",
    "                    wspace=0.6, hspace=0.4)\n"
   ]
  },
  {
   "cell_type": "code",
   "execution_count": 22,
   "metadata": {},
   "outputs": [
    {
     "data": {
      "text/plain": [
       "<AxesSubplot:ylabel='score'>"
      ]
     },
     "execution_count": 22,
     "metadata": {},
     "output_type": "execute_result"
    },
    {
     "data": {
      "image/png": "[encoded data removed]",
      "text/plain": [
       "<Figure size 864x720 with 1 Axes>"
      ]
     },
     "metadata": {},
     "output_type": "display_data"
    }
   ],
   "source": [
    "common_source = clean_tweet_df[clean_tweet_df['source'].isin(['twitter for android',\n",
    "                                                                  'twitter web app',\n",
    "                                                                  'twitter for iphone'])]\n",
    "common_source.groupby('source')['score'].value_counts().plot.pie(\n",
    "    figsize=(12, 10), fontsize=15)"
   ]
  },
  {
   "cell_type": "markdown",
   "metadata": {},
   "source": [
    "# additonal preprocess \n",
    "- Convert the score value to class 1 or 0\n",
    "    - Remove rows where  𝐩𝐨𝐥𝐚𝐫𝐢𝐭𝐲 = 0 or 𝐬𝐜𝐨𝐫𝐞  = Neutral\n",
    "    - reset the frame index.\n",
    "\n",
    "    - Construct a column  𝐬𝐜𝐨𝐫𝐞𝐦𝐚𝐩  Use the mapping {'positive':1, 'negative':0} on the  𝐬𝐜𝐨𝐫𝐞  column\n",
    "\n",
    "    - Create feature and target variables (X,y) from  𝐜𝐥𝐞𝐚𝐧-𝐭𝐞𝐱𝐭  and  𝐬𝐜𝐨𝐫𝐞𝐦𝐚𝐩  columns respectively.\n",
    "\n",
    "    - Use train_test_split function to construct (X_train, y_train) and (X_test, y_test) from (X,y)\n",
    "\n",
    "    - Build an SGDClassifier model from the vectorize train text data. Use CountVectorizer() with a  trigram  parameter.\n",
    "    - Evaluate your model on the test data.\n"
   ]
  },
  {
   "cell_type": "code",
   "execution_count": 24,
   "metadata": {},
   "outputs": [
    {
     "data": {
      "text/plain": [
       "Index(['created_at', 'source', 'clean_text', 'polarity', 'subjectivity',\n",
       "       'lang', 'favorite_count', 'retweet_count', 'original_author',\n",
       "       'followers_count', 'friends_count', 'possibly_sensitive', 'hashtags',\n",
       "       'user_mentions', 'place', 'flattened_hashtags',\n",
       "       'flattened_user_mentions', 'score', 'scoremap'],\n",
       "      dtype='object')"
      ]
     },
     "execution_count": 24,
     "metadata": {},
     "output_type": "execute_result"
    }
   ],
   "source": [
    "clean_tweet_data_scoremap = PrepareData_obj.create_scoremap(\n",
    "    clean_tweet_data_score)\n",
    "clean_tweet_data_scoremap.columns"
   ]
  },
  {
   "cell_type": "code",
   "execution_count": 32,
   "metadata": {},
   "outputs": [
    {
     "data": {
      "text/plain": [
       "0    0\n",
       "1    0\n",
       "3    1\n",
       "4    0\n",
       "5    1\n",
       "Name: scoremap, dtype: int64"
      ]
     },
     "execution_count": 32,
     "metadata": {},
     "output_type": "execute_result"
    }
   ],
   "source": [
    "clean_tweet_data_scoremap['scoremap'].head()"
   ]
  },
  {
   "cell_type": "code",
   "execution_count": 27,
   "metadata": {},
   "outputs": [],
   "source": [
    "from sklearn.feature_extraction.text import CountVectorizer\n",
    "X, y = np.array(clean_tweet_data_scoremap['clean_text'],\n",
    "                dtype='unicode'), clean_tweet_data_scoremap['scoremap']\n",
    "vectorizer = CountVectorizer(ngram_range=(3, 3))\n",
    "X = vectorizer.fit_transform(X)\n"
   ]
  },
  {
   "cell_type": "code",
   "execution_count": 29,
   "metadata": {},
   "outputs": [],
   "source": [
    "from sklearn.model_selection import train_test_split\n",
    "X_train, X_test, y_train, y_test = train_test_split(\n",
    "    X, y, test_size=0.33, random_state=42)\n"
   ]
  },
  {
   "cell_type": "code",
   "execution_count": 30,
   "metadata": {},
   "outputs": [],
   "source": [
    "from sklearn.linear_model import SGDClassifier\n",
    "from sklearn.preprocessing import StandardScaler\n",
    "from sklearn.pipeline import make_pipeline\n",
    "\n",
    "clf = SGDClassifier(max_iter=1000, tol=1e-3)\n",
    "model = clf.fit(X_train, y_train)\n"
   ]
  },
  {
   "cell_type": "markdown",
   "metadata": {},
   "source": [
    "- evaluate the model performance using score wich is classification accuracy"
   ]
  },
  {
   "cell_type": "code",
   "execution_count": 31,
   "metadata": {},
   "outputs": [
    {
     "data": {
      "text/plain": [
       "0.930384167636787"
      ]
     },
     "execution_count": 31,
     "metadata": {},
     "output_type": "execute_result"
    }
   ],
   "source": [
    "model.score(X_test,y_test)"
   ]
  }
 ],
 "metadata": {
  "kernelspec": {
   "display_name": "Python 3.10.5 ('10A')",
   "language": "python",
   "name": "python3"
  },
  "language_info": {
   "codemirror_mode": {
    "name": "ipython",
    "version": 3
   },
   "file_extension": ".py",
   "mimetype": "text/x-python",
   "name": "python",
   "nbconvert_exporter": "python",
   "pygments_lexer": "ipython3",
   "version": "3.10.5"
  },
  "orig_nbformat": 4,
  "vscode": {
   "interpreter": {
    "hash": "2be9f4616ca1b5198a62cd2082c7feed2682666a7b8fb219311f5849134be0bf"
   }
  }
 },
 "nbformat": 4,
 "nbformat_minor": 2
}
